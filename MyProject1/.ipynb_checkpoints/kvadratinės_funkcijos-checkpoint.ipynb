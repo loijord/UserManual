{
 "cells": [
  {
   "cell_type": "markdown",
   "id": "286467b6",
   "metadata": {},
   "source": [
    "Tarkime norime tirti funkciją $f(x)=ax^2+bx+c$. Tyrimo rezultatai priklausys tik nuo to, kokie kintamieji $a$, $b$ ir $c$ duoti. Apibrėšime tokias komandas:\n",
    "\n",
    "* Užrašyti funkciją, kurią tiriame\n",
    "* Pavaizduoti funkciją\n",
    "* Rasti $f(x)$ reikšmes, su tam tikromis $x$ reikšmėmis\n",
    "* Rasti lygties $f(x)=0$ sprendinius"
   ]
  },
  {
   "cell_type": "markdown",
   "id": "b05685d8",
   "metadata": {},
   "source": [
    "### Funkcijos užrašymas"
   ]
  },
  {
   "cell_type": "code",
   "execution_count": 129,
   "id": "8286812f",
   "metadata": {},
   "outputs": [
    {
     "name": "stdout",
     "output_type": "stream",
     "text": [
      "Tirsime funkciją:\n"
     ]
    },
    {
     "data": {
      "text/latex": [
       "$f(x)=x^2-5x+6$"
      ],
      "text/plain": [
       "<IPython.core.display.Latex object>"
      ]
     },
     "metadata": {},
     "output_type": "display_data"
    }
   ],
   "source": [
    "from IPython.display import display, Latex, Markdown\n",
    "def užrašyk(a,b,c):\n",
    "    def trans_x2(a):\n",
    "        if abs(a)!=1:\n",
    "            if x<0: return f'{a}x^2'\n",
    "            elif x==0: return ''\n",
    "            else: return '+'+f'{a}x^2'\n",
    "        elif a==1: return 'x^2'\n",
    "        else: return '-x^2'\n",
    "        \n",
    "    def trans_x(b):\n",
    "        if abs(b)!=1:\n",
    "            if b<0: return f'{b}x'\n",
    "            elif b==0: return ''\n",
    "            else: return f'+{b}x'\n",
    "        elif b==1: return '+x'\n",
    "        else: return '-x'\n",
    "        \n",
    "    def trans_free(c):\n",
    "        if c<0: return f'{c}'\n",
    "        elif c==0: return ''\n",
    "        else: return f'+{c}'\n",
    "        \n",
    "    print('Tirsime funkciją:')\n",
    "    display(Latex(f'$f(x)={trans_x2(a)}{trans_x(b)}{trans_free(c)}$'))\n",
    "    \n",
    "užrašyk(1, -5, 6)"
   ]
  },
  {
   "cell_type": "markdown",
   "id": "3fd5b48c",
   "metadata": {},
   "source": [
    "### Funkcijos braižymas"
   ]
  },
  {
   "cell_type": "code",
   "execution_count": 114,
   "id": "3281ac31",
   "metadata": {},
   "outputs": [
    {
     "data": {
      "image/png": "[encoded data removed]",
      "text/plain": [
       "<Figure size 648x648 with 1 Axes>"
      ]
     },
     "metadata": {
      "needs_background": "light"
     },
     "output_type": "display_data"
    }
   ],
   "source": [
    "import matplotlib.pyplot as plt\n",
    "import numpy as np\n",
    "\n",
    "def braižyk(a, b, c):\n",
    "    fig, ax = plt.subplots(figsize=(9, 9))\n",
    "    ax.set_xlim(-10, 10) #nustato x ribas\n",
    "    ax.set_ylim(-10, 10) #nustato y ribas\n",
    "    ax.set_xticks(range(-9, 10)) #pažymi y koordinates\n",
    "    ax.set_yticks(range(-9, 10)) #pažymi xkoordinates\n",
    "    ax.set_aspect('equal') #nustato vienodą mastelį\n",
    "    ax.spines[\"left\"].set_position((\"data\", 0)) #paslenka y ašį į vidurį\n",
    "    ax.spines[\"bottom\"].set_position((\"data\", 0)) #paslenka x ašį į vidurį\n",
    "    ax.spines[\"top\"].set_visible(False) #panaikina viršutinį rėmą\n",
    "    ax.spines[\"right\"].set_visible(False) #panaikina dešinį rėmą\n",
    "    \n",
    "    ax.arrow(0, -10, 0, 20, length_includes_head=True, head_width=0.4, head_length=0.8, color='k')\n",
    "    ax.arrow(-10, 0, 20, 0, length_includes_head=True, head_width=0.4, head_length=0.8, color='k')\n",
    "    x = np.linspace(-10, 10, 100)\n",
    "    y = a*x*x+b*x+c\n",
    "    \n",
    "    plt.grid(True)\n",
    "    plt.plot(x, y, color='b', linewidth=5)\n",
    "    plt.show()\n",
    "    \n",
    "braižyk(1, -5, 6)"
   ]
  },
  {
   "cell_type": "markdown",
   "id": "1247a4fd",
   "metadata": {},
   "source": [
    "### $f(x)$ reikšmės"
   ]
  },
  {
   "cell_type": "code",
   "execution_count": 134,
   "id": "e426f80e",
   "metadata": {},
   "outputs": [
    {
     "data": {
      "text/html": [
       "<div>\n",
       "<style scoped>\n",
       "    .dataframe tbody tr th:only-of-type {\n",
       "        vertical-align: middle;\n",
       "    }\n",
       "\n",
       "    .dataframe tbody tr th {\n",
       "        vertical-align: top;\n",
       "    }\n",
       "\n",
       "    .dataframe thead th {\n",
       "        text-align: right;\n",
       "    }\n",
       "</style>\n",
       "<table border=\"1\" class=\"dataframe\">\n",
       "  <thead>\n",
       "    <tr style=\"text-align: right;\">\n",
       "      <th></th>\n",
       "      <th></th>\n",
       "      <th></th>\n",
       "      <th></th>\n",
       "      <th></th>\n",
       "      <th></th>\n",
       "      <th></th>\n",
       "      <th></th>\n",
       "    </tr>\n",
       "  </thead>\n",
       "  <tbody>\n",
       "    <tr>\n",
       "      <th>$x$</th>\n",
       "      <td>-4</td>\n",
       "      <td>-2</td>\n",
       "      <td>0</td>\n",
       "      <td>1</td>\n",
       "      <td>2</td>\n",
       "      <td>3</td>\n",
       "      <td>4</td>\n",
       "    </tr>\n",
       "    <tr>\n",
       "      <th>$f(x)$</th>\n",
       "      <td>42</td>\n",
       "      <td>20</td>\n",
       "      <td>6</td>\n",
       "      <td>2</td>\n",
       "      <td>0</td>\n",
       "      <td>0</td>\n",
       "      <td>2</td>\n",
       "    </tr>\n",
       "  </tbody>\n",
       "</table>\n",
       "</div>"
      ],
      "text/plain": [
       "                             \n",
       "$x$     -4  -2  0  1  2  3  4\n",
       "$f(x)$  42  20  6  2  0  0  2"
      ]
     },
     "metadata": {},
     "output_type": "display_data"
    }
   ],
   "source": [
    "import pandas as pd\n",
    "\n",
    "def skaičiuok_reikšmes(a,b,c,reikšmės):\n",
    "    row1 = np.array(reikšmės)\n",
    "    row2 = a*row1**2+b*row1+c\n",
    "    df = pd.DataFrame([row1,row2],\n",
    "                         index = ['$x$', '$f(x)$'], \n",
    "                         columns = ['' for _ in range(len(reikšmės))])\n",
    "    display(df)\n",
    "\n",
    "skaičiuok_reikšmes(1,-5,6, [-4,-2,0,1,2,3,4])"
   ]
  },
  {
   "cell_type": "markdown",
   "id": "9b8fb713",
   "metadata": {},
   "source": [
    "### $f(x)=0$ sprendiniai"
   ]
  },
  {
   "cell_type": "code",
   "execution_count": 121,
   "id": "c2225f70",
   "metadata": {},
   "outputs": [
    {
     "data": {
      "text/latex": [
       "Lygties $f(x)=0$ sprendiniai: $x_1=2.0$ ir $x_2=3.0$"
      ],
      "text/plain": [
       "<IPython.core.display.Latex object>"
      ]
     },
     "metadata": {},
     "output_type": "display_data"
    }
   ],
   "source": [
    "def spręsk(a,b,c):\n",
    "    D=b*b-4*a*c\n",
    "    x1, x2 = ((-b-round(D**0.5, 3))/(2*a), (-b+round(D**0.5, 3))/(2*a))\n",
    "    if D>0:\n",
    "        text = f'Lygties $f(x)=0$ sprendiniai: $x_1={x1}$ ir $x_2={x2}$'\n",
    "    elif D==0:\n",
    "        text = f'Lygties $f(x)=0$ sprendiniai: $x_1={x1}$'\n",
    "    else:\n",
    "        text = 'Lygtis $f(x)=0$ neturi realiųjų sprendinių'\n",
    "    display(Latex(text))\n",
    "         \n",
    "spręsk(1,-5,6)"
   ]
  },
  {
   "cell_type": "markdown",
   "id": "57448498",
   "metadata": {},
   "source": [
    "### Kaip padaryti viską vienu metu?\n",
    "\n"
   ]
  },
  {
   "cell_type": "code",
   "execution_count": 122,
   "id": "7ea30c70",
   "metadata": {},
   "outputs": [
    {
     "name": "stdout",
     "output_type": "stream",
     "text": [
      "Tirsime funkciją:\n"
     ]
    },
    {
     "data": {
      "text/latex": [
       "$f(x)=x^2-5x+6$"
      ],
      "text/plain": [
       "<IPython.core.display.Latex object>"
      ]
     },
     "metadata": {},
     "output_type": "display_data"
    },
    {
     "data": {
      "image/png": "[encoded data removed]",
      "text/plain": [
       "<Figure size 648x648 with 1 Axes>"
      ]
     },
     "metadata": {
      "needs_background": "light"
     },
     "output_type": "display_data"
    },
    {
     "data": {
      "text/html": [
       "<div>\n",
       "<style scoped>\n",
       "    .dataframe tbody tr th:only-of-type {\n",
       "        vertical-align: middle;\n",
       "    }\n",
       "\n",
       "    .dataframe tbody tr th {\n",
       "        vertical-align: top;\n",
       "    }\n",
       "\n",
       "    .dataframe thead th {\n",
       "        text-align: right;\n",
       "    }\n",
       "</style>\n",
       "<table border=\"1\" class=\"dataframe\">\n",
       "  <thead>\n",
       "    <tr style=\"text-align: right;\">\n",
       "      <th></th>\n",
       "      <th></th>\n",
       "      <th></th>\n",
       "      <th></th>\n",
       "      <th></th>\n",
       "      <th></th>\n",
       "      <th></th>\n",
       "      <th></th>\n",
       "      <th></th>\n",
       "      <th></th>\n",
       "    </tr>\n",
       "  </thead>\n",
       "  <tbody>\n",
       "    <tr>\n",
       "      <th>$x$</th>\n",
       "      <td>-4</td>\n",
       "      <td>-3</td>\n",
       "      <td>-2</td>\n",
       "      <td>-1</td>\n",
       "      <td>0</td>\n",
       "      <td>1</td>\n",
       "      <td>2</td>\n",
       "      <td>3</td>\n",
       "      <td>4</td>\n",
       "    </tr>\n",
       "    <tr>\n",
       "      <th>$f(x)$</th>\n",
       "      <td>42</td>\n",
       "      <td>30</td>\n",
       "      <td>20</td>\n",
       "      <td>12</td>\n",
       "      <td>6</td>\n",
       "      <td>2</td>\n",
       "      <td>0</td>\n",
       "      <td>0</td>\n",
       "      <td>2</td>\n",
       "    </tr>\n",
       "  </tbody>\n",
       "</table>\n",
       "</div>"
      ],
      "text/plain": [
       "                                     \n",
       "$x$     -4  -3  -2  -1  0  1  2  3  4\n",
       "$f(x)$  42  30  20  12  6  2  0  0  2"
      ]
     },
     "metadata": {},
     "output_type": "display_data"
    },
    {
     "data": {
      "text/latex": [
       "Lygties $f(x)=0$ sprendiniai: $x_1=2.0$ ir $x_2=3.0$"
      ],
      "text/plain": [
       "<IPython.core.display.Latex object>"
      ]
     },
     "metadata": {},
     "output_type": "display_data"
    }
   ],
   "source": [
    "def tirk(a,b,c, reikšmės = [-4,-3,-2,-1,0,1,2,3,4]):\n",
    "    užrašyk(a,b,c)\n",
    "    braižyk(a,b,c)\n",
    "    skaičiuok_reikšmes(a,b,c, reikšmės)\n",
    "    spręsk(a,b,c)\n",
    "    \n",
    "tirk(1,-5,6)"
   ]
  }
 ],
 "metadata": {
  "kernelspec": {
   "display_name": "Python 3",
   "language": "python",
   "name": "python3"
  },
  "language_info": {
   "codemirror_mode": {
    "name": "ipython",
    "version": 3
   },
   "file_extension": ".py",
   "mimetype": "text/x-python",
   "name": "python",
   "nbconvert_exporter": "python",
   "pygments_lexer": "ipython3",
   "version": "3.8.8"
  }
 },
 "nbformat": 4,
 "nbformat_minor": 5
}
