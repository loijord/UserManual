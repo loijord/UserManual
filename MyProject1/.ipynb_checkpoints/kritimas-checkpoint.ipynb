{
 "cells": [
  {
   "cell_type": "markdown",
   "id": "cf7fc6f4",
   "metadata": {},
   "source": [
    "Apskaičiuosime, kokio ilgio kelią nukrenta kūnas per pirmąsias 5 sekundes. Remsimės formule $s=\\frac{gt^2}{2}$. Laikysime, kad $g=9.8$"
   ]
  },
  {
   "cell_type": "markdown",
   "id": "29120fe9",
   "metadata": {},
   "source": [
    "Kai $t=1$, tai gauname, kad $s=\\frac{9.8 \\cdot 1^2}{2}=4.9$:"
   ]
  },
  {
   "cell_type": "code",
   "execution_count": 2,
   "id": "4e6bcac6",
   "metadata": {},
   "outputs": [
    {
     "data": {
      "text/plain": [
       "4.9"
      ]
     },
     "execution_count": 2,
     "metadata": {},
     "output_type": "execute_result"
    }
   ],
   "source": [
    "g=9.8\n",
    "t=1\n",
    "g*t**2/2 #taip skaičiuojama gt²/2 reikšmė"
   ]
  },
  {
   "cell_type": "markdown",
   "id": "b999e2b5",
   "metadata": {},
   "source": [
    "Kai $t=5$, tai gauname, kad $s=\\frac{9.8 \\cdot 5^2}{2}=122.5$:"
   ]
  },
  {
   "cell_type": "code",
   "execution_count": 3,
   "id": "8e190ee7",
   "metadata": {},
   "outputs": [
    {
     "data": {
      "text/plain": [
       "122.50000000000001"
      ]
     },
     "execution_count": 3,
     "metadata": {},
     "output_type": "execute_result"
    }
   ],
   "source": [
    "t=5\n",
    "g*t**2/2"
   ]
  },
  {
   "cell_type": "markdown",
   "id": "12f84c22",
   "metadata": {},
   "source": [
    "Tą patį galima padaryti susikuriant funkciją:"
   ]
  },
  {
   "cell_type": "code",
   "execution_count": 5,
   "id": "0f7f5f9f",
   "metadata": {},
   "outputs": [
    {
     "data": {
      "text/plain": [
       "(4.9, 122.50000000000001)"
      ]
     },
     "execution_count": 5,
     "metadata": {},
     "output_type": "execute_result"
    }
   ],
   "source": [
    "def s(t, g=9.8):\n",
    "    return g*t**2/2\n",
    "\n",
    "s(1), s(5)"
   ]
  }
 ],
 "metadata": {
  "kernelspec": {
   "display_name": "Python 3",
   "language": "python",
   "name": "python3"
  },
  "language_info": {
   "codemirror_mode": {
    "name": "ipython",
    "version": 3
   },
   "file_extension": ".py",
   "mimetype": "text/x-python",
   "name": "python",
   "nbconvert_exporter": "python",
   "pygments_lexer": "ipython3",
   "version": "3.8.8"
  }
 },
 "nbformat": 4,
 "nbformat_minor": 5
}
